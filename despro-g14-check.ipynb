{
 "cells": [
  {
   "cell_type": "code",
   "execution_count": 8,
   "metadata": {},
   "outputs": [
    {
     "ename": "OperationalError",
     "evalue": "no such table: weather",
     "output_type": "error",
     "traceback": [
      "\u001b[0;31m---------------------------------------------------------------------------\u001b[0m",
      "\u001b[0;31mOperationalError\u001b[0m                          Traceback (most recent call last)",
      "\u001b[1;32m/Users/tachibananoyushou/despro-g14/despro-g14-check.ipynb セル 1\u001b[0m line \u001b[0;36m2\n\u001b[1;32m     <a href='vscode-notebook-cell:/Users/tachibananoyushou/despro-g14/despro-g14-check.ipynb#W2sZmlsZQ%3D%3D?line=16'>17</a>\u001b[0m     conn\u001b[39m.\u001b[39mclose()\n\u001b[1;32m     <a href='vscode-notebook-cell:/Users/tachibananoyushou/despro-g14/despro-g14-check.ipynb#W2sZmlsZQ%3D%3D?line=18'>19</a>\u001b[0m \u001b[39mif\u001b[39;00m \u001b[39m__name__\u001b[39m \u001b[39m==\u001b[39m \u001b[39m'\u001b[39m\u001b[39m__main__\u001b[39m\u001b[39m'\u001b[39m:\n\u001b[0;32m---> <a href='vscode-notebook-cell:/Users/tachibananoyushou/despro-g14/despro-g14-check.ipynb#W2sZmlsZQ%3D%3D?line=19'>20</a>\u001b[0m     display_database_content()\n",
      "\u001b[1;32m/Users/tachibananoyushou/despro-g14/despro-g14-check.ipynb セル 1\u001b[0m line \u001b[0;36m9\n\u001b[1;32m      <a href='vscode-notebook-cell:/Users/tachibananoyushou/despro-g14/despro-g14-check.ipynb#W2sZmlsZQ%3D%3D?line=5'>6</a>\u001b[0m cursor \u001b[39m=\u001b[39m conn\u001b[39m.\u001b[39mcursor()\n\u001b[1;32m      <a href='vscode-notebook-cell:/Users/tachibananoyushou/despro-g14/despro-g14-check.ipynb#W2sZmlsZQ%3D%3D?line=7'>8</a>\u001b[0m \u001b[39m# テーブルから全てのデータを取得\u001b[39;00m\n\u001b[0;32m----> <a href='vscode-notebook-cell:/Users/tachibananoyushou/despro-g14/despro-g14-check.ipynb#W2sZmlsZQ%3D%3D?line=8'>9</a>\u001b[0m cursor\u001b[39m.\u001b[39;49mexecute(\u001b[39m'\u001b[39;49m\u001b[39mSELECT * FROM weather\u001b[39;49m\u001b[39m'\u001b[39;49m)\n\u001b[1;32m     <a href='vscode-notebook-cell:/Users/tachibananoyushou/despro-g14/despro-g14-check.ipynb#W2sZmlsZQ%3D%3D?line=9'>10</a>\u001b[0m rows \u001b[39m=\u001b[39m cursor\u001b[39m.\u001b[39mfetchall()\n\u001b[1;32m     <a href='vscode-notebook-cell:/Users/tachibananoyushou/despro-g14/despro-g14-check.ipynb#W2sZmlsZQ%3D%3D?line=11'>12</a>\u001b[0m \u001b[39m# 取得したデータを表示\u001b[39;00m\n",
      "\u001b[0;31mOperationalError\u001b[0m: no such table: weather"
     ]
    }
   ],
   "source": [
    "import sqlite3\n",
    "\n",
    "def display_database_content():\n",
    "    # SQLiteデータベースに接続\n",
    "    conn = sqlite3.connect('.gitignore/weather_data.db')\n",
    "    cursor = conn.cursor()\n",
    "\n",
    "    # テーブルから全てのデータを取得\n",
    "    cursor.execute('SELECT * FROM weather')\n",
    "    rows = cursor.fetchall()\n",
    "\n",
    "    # 取得したデータを表示\n",
    "    for row in rows:\n",
    "        print(row)\n",
    "\n",
    "    # 接続を閉じる\n",
    "    conn.close()\n",
    "\n",
    "if __name__ == '__main__':\n",
    "    display_database_content()\n"
   ]
  },
  {
   "cell_type": "code",
   "execution_count": 3,
   "metadata": {},
   "outputs": [
    {
     "name": "stdout",
     "output_type": "stream",
     "text": [
      "('2023-04-01', 1898, 0)\n",
      "('2023-04-08', 8102, 0)\n",
      "('2023-04-15', 3355, 0)\n",
      "('2023-04-22', 3182, 0)\n",
      "('2023-04-29', 2105, 0)\n",
      "('2023-05-06', 7686, 0)\n",
      "('2023-05-13', 4806, 0)\n",
      "('2023-05-20', 304, 0)\n",
      "('2023-05-27', 7055, 0)\n",
      "('2023-06-03', 416, 0)\n",
      "('2023-06-10', 384, 0)\n",
      "('2023-06-17', 3750, 0)\n",
      "('2023-06-24', 14699, 1)\n",
      "('2023-07-01', 7680, 0)\n",
      "('2023-07-08', 7993, 0)\n",
      "('2023-07-15', 8450, 0)\n",
      "('2023-07-22', 14432, 1)\n",
      "('2023-07-29', 15821, 1)\n",
      "('2023-08-05', 17339, 1)\n",
      "('2023-08-12', 2411, 0)\n",
      "('2023-08-19', 3487, 0)\n",
      "('2023-08-26', 10951, 0)\n",
      "('2023-09-02', 10755, 1)\n",
      "('2023-09-09', 11561, 1)\n",
      "('2023-09-16', 14405, 1)\n",
      "('2023-09-23', 10935, 1)\n",
      "('2023-09-30', 257, 0)\n",
      "('2023-10-07', 14350, 1)\n",
      "('2023-10-14', 11351, 1)\n",
      "('2023-10-21', 11448, 1)\n",
      "('2023-10-28', 10750, 0)\n",
      "('2023-11-04', 3149, 0)\n",
      "('2023-11-11', 12148, 1)\n",
      "('2023-11-18', 727, 0)\n",
      "('2023-11-25', 183, 0)\n",
      "('2023-12-02', 11914, 1)\n",
      "('2023-12-09', 9670, 0)\n",
      "('2023-12-16', 15104, 1)\n"
     ]
    }
   ],
   "source": [
    "import sqlite3\n",
    "\n",
    "def display_database_content():\n",
    "    # SQLiteデータベースに接続\n",
    "    conn = sqlite3.connect('.gitignore/weather_data.db')\n",
    "    cursor = conn.cursor()\n",
    "\n",
    "    # テーブルから全てのデータを取得\n",
    "    cursor.execute('SELECT * FROM local')\n",
    "    rows = cursor.fetchall()\n",
    "\n",
    "    # 取得したデータを表示\n",
    "    for row in rows:\n",
    "        print(row)\n",
    "\n",
    "    # 接続を閉じる\n",
    "    conn.close()\n",
    "\n",
    "if __name__ == '__main__':\n",
    "    display_database_content()"
   ]
  }
 ],
 "metadata": {
  "kernelspec": {
   "display_name": "Python 3",
   "language": "python",
   "name": "python3"
  },
  "language_info": {
   "codemirror_mode": {
    "name": "ipython",
    "version": 3
   },
   "file_extension": ".py",
   "mimetype": "text/x-python",
   "name": "python",
   "nbconvert_exporter": "python",
   "pygments_lexer": "ipython3",
   "version": "3.11.4"
  }
 },
 "nbformat": 4,
 "nbformat_minor": 2
}
